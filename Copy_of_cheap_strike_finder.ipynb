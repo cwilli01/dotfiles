{
  "nbformat": 4,
  "nbformat_minor": 0,
  "metadata": {
    "colab": {
      "name": "Copy of cheap_strike_finder.ipynb",
      "provenance": [],
      "collapsed_sections": [],
      "include_colab_link": true
    },
    "kernelspec": {
      "display_name": "Python 3",
      "language": "python",
      "name": "python3"
    },
    "language_info": {
      "codemirror_mode": {
        "name": "ipython",
        "version": 3
      },
      "file_extension": ".py",
      "mimetype": "text/x-python",
      "name": "python",
      "nbconvert_exporter": "python",
      "pygments_lexer": "ipython3",
      "version": "3.7.6"
    }
  },
  "cells": [
    {
      "cell_type": "markdown",
      "metadata": {
        "id": "view-in-github",
        "colab_type": "text"
      },
      "source": [
        "<a href=\"https://colab.research.google.com/github/jcity/dotfiles/blob/master/Copy_of_cheap_strike_finder.ipynb\" target=\"_parent\"><img src=\"https://colab.research.google.com/assets/colab-badge.svg\" alt=\"Open In Colab\"/></a>"
      ]
    },
    {
      "cell_type": "code",
      "metadata": {
        "colab_type": "code",
        "id": "p7WDhm0BP8VM",
        "outputId": "d8695274-d3f4-4ec5-a2fc-768cdee6e68e",
        "colab": {
          "base_uri": "https://localhost:8080/",
          "height": 633
        }
      },
      "source": [
        "!pip install pandas_datareader\n",
        "!pip install yfinance"
      ],
      "execution_count": 0,
      "outputs": [
        {
          "output_type": "stream",
          "text": [
            "Requirement already satisfied: pandas_datareader in /usr/local/lib/python3.6/dist-packages (0.8.1)\n",
            "Requirement already satisfied: lxml in /usr/local/lib/python3.6/dist-packages (from pandas_datareader) (4.2.6)\n",
            "Requirement already satisfied: pandas>=0.21 in /usr/local/lib/python3.6/dist-packages (from pandas_datareader) (1.0.3)\n",
            "Requirement already satisfied: requests>=2.3.0 in /usr/local/lib/python3.6/dist-packages (from pandas_datareader) (2.23.0)\n",
            "Requirement already satisfied: pytz>=2017.2 in /usr/local/lib/python3.6/dist-packages (from pandas>=0.21->pandas_datareader) (2018.9)\n",
            "Requirement already satisfied: numpy>=1.13.3 in /usr/local/lib/python3.6/dist-packages (from pandas>=0.21->pandas_datareader) (1.18.4)\n",
            "Requirement already satisfied: python-dateutil>=2.6.1 in /usr/local/lib/python3.6/dist-packages (from pandas>=0.21->pandas_datareader) (2.8.1)\n",
            "Requirement already satisfied: idna<3,>=2.5 in /usr/local/lib/python3.6/dist-packages (from requests>=2.3.0->pandas_datareader) (2.9)\n",
            "Requirement already satisfied: urllib3!=1.25.0,!=1.25.1,<1.26,>=1.21.1 in /usr/local/lib/python3.6/dist-packages (from requests>=2.3.0->pandas_datareader) (1.24.3)\n",
            "Requirement already satisfied: chardet<4,>=3.0.2 in /usr/local/lib/python3.6/dist-packages (from requests>=2.3.0->pandas_datareader) (3.0.4)\n",
            "Requirement already satisfied: certifi>=2017.4.17 in /usr/local/lib/python3.6/dist-packages (from requests>=2.3.0->pandas_datareader) (2020.4.5.1)\n",
            "Requirement already satisfied: six>=1.5 in /usr/local/lib/python3.6/dist-packages (from python-dateutil>=2.6.1->pandas>=0.21->pandas_datareader) (1.12.0)\n",
            "Collecting yfinance\n",
            "  Downloading https://files.pythonhosted.org/packages/c2/31/8b374a12b90def92a4e27d0fc595fc43635f395984e36a075244d98bd265/yfinance-0.1.54.tar.gz\n",
            "Requirement already satisfied: pandas>=0.24 in /usr/local/lib/python3.6/dist-packages (from yfinance) (1.0.3)\n",
            "Requirement already satisfied: numpy>=1.15 in /usr/local/lib/python3.6/dist-packages (from yfinance) (1.18.4)\n",
            "Requirement already satisfied: requests>=2.20 in /usr/local/lib/python3.6/dist-packages (from yfinance) (2.23.0)\n",
            "Requirement already satisfied: multitasking>=0.0.7 in /usr/local/lib/python3.6/dist-packages (from yfinance) (0.0.9)\n",
            "Requirement already satisfied: python-dateutil>=2.6.1 in /usr/local/lib/python3.6/dist-packages (from pandas>=0.24->yfinance) (2.8.1)\n",
            "Requirement already satisfied: pytz>=2017.2 in /usr/local/lib/python3.6/dist-packages (from pandas>=0.24->yfinance) (2018.9)\n",
            "Requirement already satisfied: certifi>=2017.4.17 in /usr/local/lib/python3.6/dist-packages (from requests>=2.20->yfinance) (2020.4.5.1)\n",
            "Requirement already satisfied: chardet<4,>=3.0.2 in /usr/local/lib/python3.6/dist-packages (from requests>=2.20->yfinance) (3.0.4)\n",
            "Requirement already satisfied: idna<3,>=2.5 in /usr/local/lib/python3.6/dist-packages (from requests>=2.20->yfinance) (2.9)\n",
            "Requirement already satisfied: urllib3!=1.25.0,!=1.25.1,<1.26,>=1.21.1 in /usr/local/lib/python3.6/dist-packages (from requests>=2.20->yfinance) (1.24.3)\n",
            "Requirement already satisfied: six>=1.5 in /usr/local/lib/python3.6/dist-packages (from python-dateutil>=2.6.1->pandas>=0.24->yfinance) (1.12.0)\n",
            "Building wheels for collected packages: yfinance\n",
            "  Building wheel for yfinance (setup.py) ... \u001b[?25l\u001b[?25hdone\n",
            "  Created wheel for yfinance: filename=yfinance-0.1.54-py2.py3-none-any.whl size=22409 sha256=24eb288564457e0ede0d8e663da80bec74b1305e23e75bdf98cf8d64f6e13629\n",
            "  Stored in directory: /root/.cache/pip/wheels/f9/e3/5b/ec24dd2984b12d61e0abf26289746c2436a0e7844f26f2515c\n",
            "Successfully built yfinance\n",
            "Installing collected packages: yfinance\n",
            "Successfully installed yfinance-0.1.54\n"
          ],
          "name": "stdout"
        }
      ]
    },
    {
      "cell_type": "code",
      "metadata": {
        "colab_type": "code",
        "id": "5ngNfcZiP7aF",
        "outputId": "fbe883ff-baf8-4e96-af51-12aea35c2f39",
        "colab": {
          "base_uri": "https://localhost:8080/",
          "height": 74
        }
      },
      "source": [
        "#Imports, keys here are pandas_datareader allows us to download easily and\n",
        "#yfinance allows us to get into yahoo\n",
        "import pandas_datareader.data as data\n",
        "import yfinance as yf\n",
        "import pandas as pd\n",
        "\n",
        "yf.pdr_override()"
      ],
      "execution_count": 0,
      "outputs": [
        {
          "output_type": "stream",
          "text": [
            "/usr/local/lib/python3.6/dist-packages/pandas_datareader/compat/__init__.py:7: FutureWarning: pandas.util.testing is deprecated. Use the functions in the public API at pandas.testing instead.\n",
            "  from pandas.util.testing import assert_frame_equal\n"
          ],
          "name": "stderr"
        }
      ]
    },
    {
      "cell_type": "code",
      "metadata": {
        "id": "tm2u3uPsh2iW",
        "colab_type": "code",
        "colab": {}
      },
      "source": [
        "def cheap_opts(symbol, calls_or_puts):\n",
        "  '''\n",
        "  This searches all possible expiry dates and finds contracts.\n",
        "  '''\n",
        "  import sys, os\n",
        "  from datetime import date\n",
        "\n",
        "  #We're going to suppress prints b/c datareader is annoying then restore printing so this helps\n",
        "  #old_stdout = sys.stdout\n",
        "  #sys.stdout = open(os.devnull, \"w\")\n",
        "\n",
        "  finaldf = pd.DataFrame()\n",
        "  ticker = yf.Ticker(symbol)\n",
        "  stock_price = data.get_data_yahoo(symbol, end_date = date.today())['Close'][-1]\n",
        "  for opt_date in ticker.options:\n",
        "    opt = ticker.option_chain(opt_date)\n",
        "    if calls_or_puts == 'puts':\n",
        "      opt.puts.insert(0,'opt_date', opt_date)\n",
        "      finaldf = finaldf.append(opt.puts)\n",
        "    else:\n",
        "      opt.calls.insert(0,'opt_date', opt_date)\n",
        "      finaldf = finaldf.append(opt.calls)\n",
        "  return finaldf, stock_price"
      ],
      "execution_count": 0,
      "outputs": []
    },
    {
      "cell_type": "code",
      "metadata": {
        "id": "nS-DMN0HguMP",
        "colab_type": "code",
        "outputId": "37c9953e-1a90-42f3-fe9f-c521c8be667a",
        "colab": {
          "base_uri": "https://localhost:8080/",
          "height": 73
        }
      },
      "source": [
        "%%time\n",
        "\n",
        "calls_or_puts = 'puts'\n",
        "symbol = 'acb'\n",
        "\n",
        "results, stock_price = cheap_opts(symbol, calls_or_puts)"
      ],
      "execution_count": 0,
      "outputs": [
        {
          "output_type": "stream",
          "text": [
            "\r[*********************100%***********************]  1 of 1 completed\n",
            "CPU times: user 479 ms, sys: 39.5 ms, total: 518 ms\n",
            "Wall time: 1.84 s\n"
          ],
          "name": "stdout"
        }
      ]
    },
    {
      "cell_type": "code",
      "metadata": {
        "colab_type": "code",
        "scrolled": true,
        "id": "9nNqA9hYi3RR",
        "outputId": "245983da-a8e3-4885-9563-fd511247f42e",
        "colab": {
          "base_uri": "https://localhost:8080/",
          "height": 118
        }
      },
      "source": [
        "returned = results\n",
        "# Do some final formatting changes\n",
        "returned = returned.drop(columns = ['contractSymbol', 'lastTradeDate', 'contractSize', 'currency'])\n",
        "if calls_or_puts == 'puts':\n",
        "    returned.insert(3, 'dist OTM', stock_price - returned['strike'])\n",
        "else:\n",
        "    returned.insert(3, 'dist OTM', returned['strike'] - stock_price)\n",
        "  \n",
        "returned.insert(4, '% OTM', returned['dist OTM']/stock_price*100)\n",
        "returned['value'] = returned['openInterest']*returned['lastPrice']*100\n",
        "\n",
        "# Do some filtering\n",
        "returned = returned[returned['% OTM'] < 50]\n",
        "returned = returned[returned['lastPrice'] < 15]\n",
        "returned = returned[returned.openInterest > 50]\n",
        "returned = returned[returned['opt_date'] > '2020-05-24']\n",
        "#returned = returned[returned['percentChange'] < -0]\n",
        "\n",
        "# Sort and display\n",
        "returned.sort_values(inplace=True, by='lastPrice', ascending=True)\n",
        "returned = returned.head(40)\n",
        "returned.reset_index(drop=True, inplace=True)\n",
        "final = returned.style.set_precision(3).set_caption('<H1>' + symbol + ' ' + calls_or_puts.upper() + \\\n",
        "                                          '   (Current = $' + str(round(stock_price, 2)) + ')')\n",
        "final"
      ],
      "execution_count": 0,
      "outputs": [
        {
          "output_type": "execute_result",
          "data": {
            "text/html": [
              "<style  type=\"text/css\" >\n",
              "</style><table id=\"T_5af3df32_9c2b_11ea_b7f0_0242ac1c0002\" ><caption><H1>acb PUTS   (Current = $17.4)</caption><thead>    <tr>        <th class=\"blank level0\" ></th>        <th class=\"col_heading level0 col0\" >opt_date</th>        <th class=\"col_heading level0 col1\" >strike</th>        <th class=\"col_heading level0 col2\" >lastPrice</th>        <th class=\"col_heading level0 col3\" >dist OTM</th>        <th class=\"col_heading level0 col4\" >% OTM</th>        <th class=\"col_heading level0 col5\" >bid</th>        <th class=\"col_heading level0 col6\" >ask</th>        <th class=\"col_heading level0 col7\" >change</th>        <th class=\"col_heading level0 col8\" >percentChange</th>        <th class=\"col_heading level0 col9\" >volume</th>        <th class=\"col_heading level0 col10\" >openInterest</th>        <th class=\"col_heading level0 col11\" >impliedVolatility</th>        <th class=\"col_heading level0 col12\" >inTheMoney</th>        <th class=\"col_heading level0 col13\" >value</th>    </tr></thead><tbody>\n",
              "                <tr>\n",
              "                        <th id=\"T_5af3df32_9c2b_11ea_b7f0_0242ac1c0002level0_row0\" class=\"row_heading level0 row0\" >0</th>\n",
              "                        <td id=\"T_5af3df32_9c2b_11ea_b7f0_0242ac1c0002row0_col0\" class=\"data row0 col0\" >2022-01-21</td>\n",
              "                        <td id=\"T_5af3df32_9c2b_11ea_b7f0_0242ac1c0002row0_col1\" class=\"data row0 col1\" >12.000</td>\n",
              "                        <td id=\"T_5af3df32_9c2b_11ea_b7f0_0242ac1c0002row0_col2\" class=\"data row0 col2\" >11.430</td>\n",
              "                        <td id=\"T_5af3df32_9c2b_11ea_b7f0_0242ac1c0002row0_col3\" class=\"data row0 col3\" >5.400</td>\n",
              "                        <td id=\"T_5af3df32_9c2b_11ea_b7f0_0242ac1c0002row0_col4\" class=\"data row0 col4\" >31.034</td>\n",
              "                        <td id=\"T_5af3df32_9c2b_11ea_b7f0_0242ac1c0002row0_col5\" class=\"data row0 col5\" >11.150</td>\n",
              "                        <td id=\"T_5af3df32_9c2b_11ea_b7f0_0242ac1c0002row0_col6\" class=\"data row0 col6\" >11.600</td>\n",
              "                        <td id=\"T_5af3df32_9c2b_11ea_b7f0_0242ac1c0002row0_col7\" class=\"data row0 col7\" >-0.170</td>\n",
              "                        <td id=\"T_5af3df32_9c2b_11ea_b7f0_0242ac1c0002row0_col8\" class=\"data row0 col8\" >-1.466</td>\n",
              "                        <td id=\"T_5af3df32_9c2b_11ea_b7f0_0242ac1c0002row0_col9\" class=\"data row0 col9\" >1.000</td>\n",
              "                        <td id=\"T_5af3df32_9c2b_11ea_b7f0_0242ac1c0002row0_col10\" class=\"data row0 col10\" >77</td>\n",
              "                        <td id=\"T_5af3df32_9c2b_11ea_b7f0_0242ac1c0002row0_col11\" class=\"data row0 col11\" >3.127</td>\n",
              "                        <td id=\"T_5af3df32_9c2b_11ea_b7f0_0242ac1c0002row0_col12\" class=\"data row0 col12\" >False</td>\n",
              "                        <td id=\"T_5af3df32_9c2b_11ea_b7f0_0242ac1c0002row0_col13\" class=\"data row0 col13\" >88011.000</td>\n",
              "            </tr>\n",
              "    </tbody></table>"
            ],
            "text/plain": [
              "<pandas.io.formats.style.Styler at 0x7f5414337908>"
            ]
          },
          "metadata": {
            "tags": []
          },
          "execution_count": 5
        }
      ]
    },
    {
      "cell_type": "code",
      "metadata": {
        "colab_type": "code",
        "id": "I9-gjxvLP7ag",
        "colab": {}
      },
      "source": [
        "# Download the CSV and you're done!\n",
        "from google.colab import files\n",
        "filename = 'cheap_' + symbol + '_' + calls_or_puts + '.csv'\n",
        "\n",
        "returned.to_csv(filename)\n",
        "# returned.to_csv('unusual_calls_activity_5_15_exp.csv')\n",
        "files.download(filename)"
      ],
      "execution_count": 0,
      "outputs": []
    },
    {
      "cell_type": "code",
      "metadata": {
        "scrolled": true,
        "id": "cUKgQjHXi3Rn",
        "colab_type": "code",
        "colab": {}
      },
      "source": [
        "%%time\n",
        "top = returned.sort_values(by='lastPrice', ascending=True) #.head(70)\n",
        "top.sort_values(by='% OTM', inplace=True, ascending=True)\n",
        "a = top.style.set_caption(calls_or_puts.upper())\n",
        "display(a)\n",
        "# top[top['inTheMoney']== True]"
      ],
      "execution_count": 0,
      "outputs": []
    },
    {
      "cell_type": "code",
      "metadata": {
        "id": "GibnAETNi3Rt",
        "colab_type": "code",
        "colab": {}
      },
      "source": [
        "#top.to_csv('filtered_puts_05_15.csv')\n",
        "top.to_csv('filtered_'+calls_or_puts+'_05_15.csv')"
      ],
      "execution_count": 0,
      "outputs": []
    },
    {
      "cell_type": "code",
      "metadata": {
        "scrolled": false,
        "id": "ShZDV9GFi3R1",
        "colab_type": "code",
        "colab": {}
      },
      "source": [
        "otm=returned['inTheMoney'] == False\n",
        "#returned.loc[otm,'Distance OTM']=999-returned.lastPrice\n",
        "returned.style.set_precision(2)"
      ],
      "execution_count": 0,
      "outputs": []
    },
    {
      "cell_type": "code",
      "metadata": {
        "id": "FrZ493pni3SP",
        "colab_type": "code",
        "colab": {}
      },
      "source": [
        "#top[top['inTheMoney']== True]"
      ],
      "execution_count": 0,
      "outputs": []
    },
    {
      "cell_type": "code",
      "metadata": {
        "id": "N50GkAqI9Ao0",
        "colab_type": "code",
        "colab": {}
      },
      "source": [
        ""
      ],
      "execution_count": 0,
      "outputs": []
    }
  ]
}